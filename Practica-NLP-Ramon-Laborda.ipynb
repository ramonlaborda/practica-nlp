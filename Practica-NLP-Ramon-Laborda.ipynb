{
 "cells": [
  {
   "cell_type": "markdown",
   "metadata": {},
   "source": [
    "# Práctica de NLP & Searching"
   ]
  },
  {
   "cell_type": "markdown",
   "metadata": {},
   "source": [
    "Ramón-Armand Laborda Moreu"
   ]
  },
  {
   "cell_type": "markdown",
   "metadata": {},
   "source": [
    "## Objetivo"
   ]
  },
  {
   "cell_type": "markdown",
   "metadata": {},
   "source": [
    "El siguiente documento se centra en aplicar un problema de NLP (Procesamiento del Lenguaje Natural) realizando un análisis de sentimiento a las opiniones publicadas en Amazon sobre una categoría de productos. \n",
    "Para tener un hilo conductor se dividirá en 4 apartados principalmente:\n",
    "\n",
    "1. Descarga y exploración del corpus\n",
    "2. Preprocesado de texto\n",
    "3. Modelo de análisis de Sentimiento\n",
    "4. Reporte de métricas y conclusiones"
   ]
  },
  {
   "cell_type": "markdown",
   "metadata": {},
   "source": [
    "## 1. Descarga y exploración del corpus"
   ]
  },
  {
   "cell_type": "markdown",
   "metadata": {},
   "source": [
    "McAuley Lab tiene disponible una colección de opiniones de Amazon convertidas ya en datasets crudos con los que podemos trabajar sin la necesidad de diseñar el webscrapping.\n",
    "\n",
    "En la siguiente página web: <href> https://amazon-reviews-2023.github.io/ </href> se puede descargar un dataset correspondiente a las opiniones o reseñas y otro relativo al metadato del producto o las características comerciales.\n",
    "\n",
    "De entre todas las categorías disponibles descargamos y descomprimimos en formato json la relacionada con: \"Health and Personal Care\""
   ]
  },
  {
   "cell_type": "code",
   "execution_count": 4,
   "metadata": {},
   "outputs": [],
   "source": [
    "import requests\n",
    "import gzip\n",
    "import shutil\n",
    "\n",
    "url = 'https://datarepo.eng.ucsd.edu/mcauley_group/data/amazon_2023/raw/review_categories/Health_and_Personal_Care.jsonl.gz'\n",
    "response = requests.get(url, stream=True)\n",
    "\n",
    "with open('Health_and_Personal_Care.jsonl.gz', 'wb') as file:\n",
    "        file.write(response.content)"
   ]
  },
  {
   "cell_type": "markdown",
   "metadata": {},
   "source": [
    "Una vez descargado, descomprimimos el fichero .jsonl"
   ]
  },
  {
   "cell_type": "code",
   "execution_count": 5,
   "metadata": {},
   "outputs": [],
   "source": [
    "with gzip.open('Health_and_Personal_Care.jsonl.gz', 'rb') as f_in:\n",
    "    with open('Health_and_Personal_Care.jsonl', 'wb') as f_out:\n",
    "        shutil.copyfileobj(f_in, f_out)"
   ]
  },
  {
   "cell_type": "markdown",
   "metadata": {},
   "source": [
    "Para realizar un primer análisis exploratorio de la estructura del corpus, leemos el jsonl con pandas."
   ]
  },
  {
   "cell_type": "code",
   "execution_count": 16,
   "metadata": {},
   "outputs": [],
   "source": [
    "import pandas as pd\n",
    "\n",
    "corpus_hcpc = pd.read_json('Health_and_Personal_Care.jsonl', lines = True)"
   ]
  },
  {
   "cell_type": "code",
   "execution_count": 17,
   "metadata": {},
   "outputs": [
    {
     "data": {
      "text/html": [
       "<div>\n",
       "<style scoped>\n",
       "    .dataframe tbody tr th:only-of-type {\n",
       "        vertical-align: middle;\n",
       "    }\n",
       "\n",
       "    .dataframe tbody tr th {\n",
       "        vertical-align: top;\n",
       "    }\n",
       "\n",
       "    .dataframe thead th {\n",
       "        text-align: right;\n",
       "    }\n",
       "</style>\n",
       "<table border=\"1\" class=\"dataframe\">\n",
       "  <thead>\n",
       "    <tr style=\"text-align: right;\">\n",
       "      <th></th>\n",
       "      <th>rating</th>\n",
       "      <th>title</th>\n",
       "      <th>text</th>\n",
       "      <th>images</th>\n",
       "      <th>asin</th>\n",
       "      <th>parent_asin</th>\n",
       "      <th>user_id</th>\n",
       "      <th>timestamp</th>\n",
       "      <th>helpful_vote</th>\n",
       "      <th>verified_purchase</th>\n",
       "    </tr>\n",
       "  </thead>\n",
       "  <tbody>\n",
       "    <tr>\n",
       "      <th>0</th>\n",
       "      <td>4</td>\n",
       "      <td>12 mg is 12 on the periodic table people! Mg f...</td>\n",
       "      <td>This review is more to clarify someone else’s ...</td>\n",
       "      <td>[]</td>\n",
       "      <td>B07TDSJZMR</td>\n",
       "      <td>B07TDSJZMR</td>\n",
       "      <td>AFKZENTNBQ7A7V7UXW5JJI6UGRYQ</td>\n",
       "      <td>2020-02-06 00:49:35.902</td>\n",
       "      <td>3</td>\n",
       "      <td>True</td>\n",
       "    </tr>\n",
       "    <tr>\n",
       "      <th>1</th>\n",
       "      <td>5</td>\n",
       "      <td>Save the lanet using less plastic.</td>\n",
       "      <td>Love these easy multitasking bleach tablets. B...</td>\n",
       "      <td>[]</td>\n",
       "      <td>B08637FWWF</td>\n",
       "      <td>B08637FWWF</td>\n",
       "      <td>AEVWAM3YWN5URJVJIZZ6XPD2MKIA</td>\n",
       "      <td>2020-11-02 22:03:06.880</td>\n",
       "      <td>3</td>\n",
       "      <td>True</td>\n",
       "    </tr>\n",
       "  </tbody>\n",
       "</table>\n",
       "</div>"
      ],
      "text/plain": [
       "   rating                                              title  \\\n",
       "0       4  12 mg is 12 on the periodic table people! Mg f...   \n",
       "1       5                 Save the lanet using less plastic.   \n",
       "\n",
       "                                                text images        asin  \\\n",
       "0  This review is more to clarify someone else’s ...     []  B07TDSJZMR   \n",
       "1  Love these easy multitasking bleach tablets. B...     []  B08637FWWF   \n",
       "\n",
       "  parent_asin                       user_id               timestamp  \\\n",
       "0  B07TDSJZMR  AFKZENTNBQ7A7V7UXW5JJI6UGRYQ 2020-02-06 00:49:35.902   \n",
       "1  B08637FWWF  AEVWAM3YWN5URJVJIZZ6XPD2MKIA 2020-11-02 22:03:06.880   \n",
       "\n",
       "   helpful_vote  verified_purchase  \n",
       "0             3               True  \n",
       "1             3               True  "
      ]
     },
     "execution_count": 17,
     "metadata": {},
     "output_type": "execute_result"
    }
   ],
   "source": [
    "corpus_hcpc.head(2)"
   ]
  },
  {
   "cell_type": "markdown",
   "metadata": {},
   "source": [
    "Según la documentación original del dataset, y teniendo en mente el algoritmo que queremos ejecutar, hay campos que carecen de objeto de estudio. Eliminamos por tanto, \"images\", \"asin\", \"parent_asin\", \"user_id\", \"timestamp\", \"helpful_vote\" por el momento.\n",
    "\n",
    "Nos quedamos con las variables:\n",
    "\n",
    "- rating: (float) Rating of the product (from 1.0 to 5.0).\n",
    "- title: (str) Title of the user review.\n",
    "- text: (str) Text body of the user review.\n",
    "- verified_purchase: (bool) User purchase verification."
   ]
  },
  {
   "cell_type": "code",
   "execution_count": 18,
   "metadata": {},
   "outputs": [
    {
     "data": {
      "text/plain": [
       "(494121, 10)"
      ]
     },
     "execution_count": 18,
     "metadata": {},
     "output_type": "execute_result"
    }
   ],
   "source": [
    "corpus_hcpc.shape"
   ]
  },
  {
   "cell_type": "code",
   "execution_count": 19,
   "metadata": {},
   "outputs": [
    {
     "data": {
      "text/plain": [
       "verified_purchase\n",
       "True     445072\n",
       "False     49049\n",
       "Name: count, dtype: int64"
      ]
     },
     "execution_count": 19,
     "metadata": {},
     "output_type": "execute_result"
    }
   ],
   "source": [
    "corpus_hcpc.verified_purchase.value_counts()"
   ]
  },
  {
   "cell_type": "markdown",
   "metadata": {},
   "source": [
    "El primer paso es reducir el corpus utilizando exclusivamente opiniones de perfiles verificados. De esta forma se pretende disminuir el tamaño y mitigar opiniones generadas por bots o personas sin verificar."
   ]
  },
  {
   "cell_type": "code",
   "execution_count": 20,
   "metadata": {},
   "outputs": [
    {
     "name": "stdout",
     "output_type": "stream",
     "text": [
      "(445072, 10)\n"
     ]
    }
   ],
   "source": [
    "corpus_hcpc = corpus_hcpc[corpus_hcpc.verified_purchase]\n",
    "print(corpus_hcpc.shape)"
   ]
  },
  {
   "cell_type": "markdown",
   "metadata": {},
   "source": [
    "Basándome en experiencias personales previas, el título de una reseña suele sintetizar lo que posteriormente se escribe en el texto (si es que se desarrolla un texto. Muchas veces por tiempo solo se indica el motivo de una opinión en el título) creo conveniente concatenar los campos de título y texto."
   ]
  },
  {
   "cell_type": "code",
   "execution_count": 21,
   "metadata": {},
   "outputs": [],
   "source": [
    "corpus_hcpc[\"title_text\"] = corpus_hcpc[\"title\"] + \" \" + corpus_hcpc[\"text\"]"
   ]
  },
  {
   "cell_type": "markdown",
   "metadata": {},
   "source": [
    "Filtramos los campos objeto de estudio para disponer de un corpus con el que hacer un análisis exploratorio de los datos."
   ]
  },
  {
   "cell_type": "code",
   "execution_count": 23,
   "metadata": {},
   "outputs": [],
   "source": [
    "corpus_hcpc = corpus_hcpc[['rating', 'title_text']]"
   ]
  },
  {
   "cell_type": "code",
   "execution_count": 36,
   "metadata": {},
   "outputs": [
    {
     "name": "stdout",
     "output_type": "stream",
     "text": [
      "El corpus tiene la siguiente estructura:  (445072, 2)\n",
      "Con las siguientes columnas:  rating, title_text\n"
     ]
    }
   ],
   "source": [
    "print(\"El corpus tiene la siguiente estructura: \", corpus_hcpc.shape)\n",
    "print(\"Con las siguientes columnas: \", \", \".join(corpus_hcpc.columns))"
   ]
  },
  {
   "cell_type": "markdown",
   "metadata": {},
   "source": [
    "### Cardinalidad del vocabulario"
   ]
  },
  {
   "cell_type": "markdown",
   "metadata": {},
   "source": [
    "Usamos la libreria sklearn, tokenizamos y observamos cuales son las palabras únicas excluyendo stopwords."
   ]
  },
  {
   "cell_type": "code",
   "execution_count": 63,
   "metadata": {},
   "outputs": [
    {
     "name": "stdout",
     "output_type": "stream",
     "text": [
      "Cardinalidad del vocabulario:  85977\n"
     ]
    }
   ],
   "source": [
    "from sklearn.feature_extraction.text import CountVectorizer\n",
    "\n",
    "vectorizer = CountVectorizer(stop_words='english')\n",
    "X = vectorizer.fit_transform(corpus_hcpc['title_text'])\n",
    "\n",
    "print(\"Cardinalidad del vocabulario: \", len(vectorizer.get_feature_names_out()))"
   ]
  },
  {
   "cell_type": "markdown",
   "metadata": {},
   "source": [
    "Parece que hay muchas palabras distintas. Es posible que se deba a los productos y la variedad de vocabulario. En cualquier caso, quiero observar cual sería la cardinalidad lematizando para reducirla un poco."
   ]
  },
  {
   "cell_type": "code",
   "execution_count": 64,
   "metadata": {},
   "outputs": [
    {
     "name": "stdout",
     "output_type": "stream",
     "text": [
      "Cardinalidad del vocabulario:  84646\n"
     ]
    }
   ],
   "source": [
    "from nltk.stem import WordNetLemmatizer\n",
    "from sklearn.feature_extraction.text import CountVectorizer\n",
    "\n",
    "lemmatizer = WordNetLemmatizer()\n",
    "\n",
    "def lemmatize_text_nltk(text):\n",
    "    return \" \".join([lemmatizer.lemmatize(word) for word in text.split()])\n",
    "\n",
    "lemmatized_corpus = [lemmatize_text_nltk(doc) for doc in corpus_hcpc['title_text']]\n",
    "\n",
    "vectorizer = CountVectorizer(stop_words='english')\n",
    "X = vectorizer.fit_transform(lemmatized_corpus)\n",
    "\n",
    "print(\"Cardinalidad del vocabulario: \", len(vectorizer.get_feature_names_out()))"
   ]
  },
  {
   "cell_type": "markdown",
   "metadata": {},
   "source": [
    "Hemos podido reducir la cardinalidad observando las palabras lematizadas."
   ]
  },
  {
   "cell_type": "markdown",
   "metadata": {},
   "source": [
    "### Distribución de opiniones por número de estrellas"
   ]
  },
  {
   "cell_type": "code",
   "execution_count": 69,
   "metadata": {},
   "outputs": [
    {
     "data": {
      "image/png": "[encoded data removed]",
      "text/plain": [
       "<Figure size 800x600 with 1 Axes>"
      ]
     },
     "metadata": {},
     "output_type": "display_data"
    }
   ],
   "source": [
    "import matplotlib.pyplot as plt\n",
    "\n",
    "plt.figure(figsize=(8, 6))\n",
    "corpus_hcpc['rating'].value_counts().sort_index().plot(kind='bar')\n",
    "plt.title('Distribución de opiniones por puntuacion')\n",
    "plt.xlabel('Puntuacion')\n",
    "plt.ylabel('Opiniones')\n",
    "plt.xticks(rotation=0)\n",
    "plt.show()"
   ]
  }
 ],
 "metadata": {
  "kernelspec": {
   "display_name": "base",
   "language": "python",
   "name": "python3"
  },
  "language_info": {
   "codemirror_mode": {
    "name": "ipython",
    "version": 3
   },
   "file_extension": ".py",
   "mimetype": "text/x-python",
   "name": "python",
   "nbconvert_exporter": "python",
   "pygments_lexer": "ipython3",
   "version": "3.11.7"
  }
 },
 "nbformat": 4,
 "nbformat_minor": 2
}
